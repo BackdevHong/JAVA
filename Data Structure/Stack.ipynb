{
 "cells": [
  {
   "cell_type": "code",
   "execution_count": 2,
   "metadata": {
    "vscode": {
     "languageId": "java"
    }
   },
   "outputs": [],
   "source": [
    "import java.util.Stack;\n",
    "\n",
    "Stack<Integer> stack_int = new Stack<>();"
   ]
  },
  {
   "cell_type": "code",
   "execution_count": 3,
   "metadata": {
    "vscode": {
     "languageId": "java"
    }
   },
   "outputs": [
    {
     "data": {
      "text/plain": [
       "3"
      ]
     },
     "execution_count": 3,
     "metadata": {},
     "output_type": "execute_result"
    }
   ],
   "source": [
    "stack_int.push(1);\n",
    "stack_int.push(2);\n",
    "stack_int.push(3);"
   ]
  },
  {
   "cell_type": "code",
   "execution_count": 4,
   "metadata": {
    "vscode": {
     "languageId": "java"
    }
   },
   "outputs": [
    {
     "data": {
      "text/plain": [
       "3"
      ]
     },
     "execution_count": 4,
     "metadata": {},
     "output_type": "execute_result"
    }
   ],
   "source": [
    "stack_int.pop();"
   ]
  },
  {
   "cell_type": "code",
   "execution_count": 7,
   "metadata": {
    "vscode": {
     "languageId": "java"
    }
   },
   "outputs": [
    {
     "data": {
      "text/plain": [
       "2"
      ]
     },
     "execution_count": 7,
     "metadata": {},
     "output_type": "execute_result"
    }
   ],
   "source": [
    "stack_int.pop();"
   ]
  },
  {
   "cell_type": "code",
   "execution_count": 8,
   "metadata": {
    "vscode": {
     "languageId": "java"
    }
   },
   "outputs": [
    {
     "data": {
      "text/plain": [
       "1"
      ]
     },
     "execution_count": 8,
     "metadata": {},
     "output_type": "execute_result"
    }
   ],
   "source": [
    "stack_int.pop();"
   ]
  },
  {
   "cell_type": "markdown",
   "metadata": {},
   "source": [
    "## 프로그래밍 연습\n",
    "- 자바 ArrayList 클래스를 활용해서 스택를 다루는 push, pop 기능 구현해보기\n",
    "- pop 기능 호출시, 스택에 데이터가 없을 경우, null을 리턴하도록 함.\n",
    "- 다양한 데이터 타입을 다룰 수 있도록 자바 제네릭 타입 문법을 활용해보기"
   ]
  },
  {
   "cell_type": "code",
   "execution_count": 18,
   "metadata": {
    "vscode": {
     "languageId": "java"
    }
   },
   "outputs": [],
   "source": [
    "import java.util.ArrayList;\n",
    "\n",
    "class MyStack<T> {\n",
    "    private ArrayList<T> myStack = new ArrayList<>();\n",
    "\n",
    "    public void push(T data) {\n",
    "        myStack.add(data);\n",
    "    }\n",
    "\n",
    "    public T pop() {\n",
    "        if (myStack.isEmpty()) {\n",
    "            return null;\n",
    "        }\n",
    "        return myStack.remove(myStack.size() - 1);\n",
    "    }\n",
    "\n",
    "    public static void main(String[] args) {\n",
    "        MyStack<Integer> ms = new MyStack<>();\n",
    "        ms.push(1);\n",
    "        ms.push(2);\n",
    "        ms.push(3);\n",
    "        System.out.println(ms.pop());\n",
    "        System.out.println(ms.pop());\n",
    "        System.out.println(ms.pop());\n",
    "    }\n",
    "}"
   ]
  },
  {
   "cell_type": "code",
   "execution_count": 19,
   "metadata": {
    "vscode": {
     "languageId": "java"
    }
   },
   "outputs": [
    {
     "name": "stdout",
     "output_type": "stream",
     "text": [
      "3\n",
      "2\n",
      "1\n"
     ]
    }
   ],
   "source": [
    "MyStack.main(new String[0]);"
   ]
  },
  {
   "cell_type": "code",
   "execution_count": null,
   "metadata": {
    "vscode": {
     "languageId": "java"
    }
   },
   "outputs": [],
   "source": []
  }
 ],
 "metadata": {
  "kernelspec": {
   "display_name": "Java",
   "language": "java",
   "name": "java"
  },
  "language_info": {
   "codemirror_mode": "java",
   "file_extension": ".jshell",
   "mimetype": "text/x-java-source",
   "name": "Java",
   "pygments_lexer": "java",
   "version": "18.0.2.1+1-1"
  },
  "orig_nbformat": 4
 },
 "nbformat": 4,
 "nbformat_minor": 2
}
