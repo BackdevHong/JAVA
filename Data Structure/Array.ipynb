{
 "cells": [
  {
   "cell_type": "code",
   "execution_count": 1,
   "id": "99a556bd",
   "metadata": {
    "vscode": {
     "languageId": "java"
    }
   },
   "outputs": [
    {
     "data": {
      "text/plain": [
       "1"
      ]
     },
     "execution_count": 1,
     "metadata": {},
     "output_type": "execute_result"
    }
   ],
   "source": [
    "//  new 키워드를 사용해서 배열을 미리 선언하고, 데이터를 넣을 수도 있음\n",
    "Integer[] data_list = new Integer[10];\n",
    "data_list[0] = 1"
   ]
  },
  {
   "cell_type": "code",
   "execution_count": 2,
   "id": "0b31ee76",
   "metadata": {
    "vscode": {
     "languageId": "java"
    }
   },
   "outputs": [
    {
     "name": "stdout",
     "output_type": "stream",
     "text": [
      "1\n"
     ]
    }
   ],
   "source": [
    "// 직접 배열 데이터 선언 시 넣을 수도 있음\n",
    "Integer data_list1[] = {5,4,3,2,1};\n",
    "Integer[] data_list2 = {1,2,3,4,5};\n",
    "\n",
    "System.out.println(data_list2[0]);"
   ]
  },
  {
   "cell_type": "code",
   "execution_count": 3,
   "id": "4ef6dfe2",
   "metadata": {
    "vscode": {
     "languageId": "java"
    }
   },
   "outputs": [
    {
     "data": {
      "text/plain": [
       "5"
      ]
     },
     "execution_count": 3,
     "metadata": {},
     "output_type": "execute_result"
    }
   ],
   "source": [
    "// 주피터 노트북에서는 System.out.println()을 안써도 셀에 마지막 라인의 변수값은 자동으로 출력해준다\n",
    "data_list1[0]"
   ]
  },
  {
   "cell_type": "code",
   "execution_count": 4,
   "id": "6b4cb654",
   "metadata": {
    "vscode": {
     "languageId": "java"
    }
   },
   "outputs": [
    {
     "name": "stdout",
     "output_type": "stream",
     "text": [
      "[1, 2, 3, 4, 5]\n"
     ]
    }
   ],
   "source": [
    "// 저번에 봤다 싶이 Array에는 여러가지 컬렉션 프레임워크 클래스가 존재한다.\n",
    "import java.util.Arrays;\n",
    "\n",
    "System.out.println( Arrays.toString(data_list2) );"
   ]
  },
  {
   "cell_type": "markdown",
   "id": "277689ad",
   "metadata": {},
   "source": [
    "## Java에서 배열을 보다 손쉽게 다루기 위한 ArrayList 클래스\n",
    "- 가변 길이의 배열 자료구조를 다룰 수 있는 기능을 제공한다."
   ]
  },
  {
   "cell_type": "code",
   "execution_count": 10,
   "id": "1170fbbf",
   "metadata": {
    "vscode": {
     "languageId": "java"
    }
   },
   "outputs": [],
   "source": [
    "// List vs ArrayList\n",
    "List<Integer> list1 = new ArrayList<Integer>();\n",
    "ArrayList<Integer> list2 = new ArrayList<Integer>();\n",
    "\n",
    "// List는 인터페이스이다. List는 다음과 같이 필요에 따라 다른 리스트 클래스를 쓸 수 있다.\n",
    "list1 = new LinkedList<Integer>();\n",
    "\n",
    "// 본 자료구조에서는 굳이 동일 변수에 다양한 리스트 클래스를 쓸 필요는 없다.\n",
    "// 이 외에 JDK 1.7 이상부터는 뒤 <>부분에 타입을 안적어도 되지만, 이 강의에서는 최대한 적는다고 한다."
   ]
  },
  {
   "cell_type": "code",
   "execution_count": 11,
   "id": "7c616af1",
   "metadata": {
    "vscode": {
     "languageId": "java"
    }
   },
   "outputs": [],
   "source": [
    "ArrayList<Integer> list1 = new ArrayList<Integer>();"
   ]
  },
  {
   "cell_type": "code",
   "execution_count": 12,
   "id": "207dfe46",
   "metadata": {
    "vscode": {
     "languageId": "java"
    }
   },
   "outputs": [
    {
     "data": {
      "text/plain": [
       "1"
      ]
     },
     "execution_count": 12,
     "metadata": {},
     "output_type": "execute_result"
    }
   ],
   "source": [
    "list1.add(1);\n",
    "list1.add(2);\n",
    "list1.get(0); // 1과 2를 추가한 뒤 인덱스 0번을 가져왔다."
   ]
  },
  {
   "cell_type": "code",
   "execution_count": 13,
   "id": "52aafc47",
   "metadata": {
    "vscode": {
     "languageId": "java"
    }
   },
   "outputs": [
    {
     "data": {
      "text/plain": [
       "5"
      ]
     },
     "execution_count": 13,
     "metadata": {},
     "output_type": "execute_result"
    }
   ],
   "source": [
    "list1.set(0, 5); // 원하는 인덱스를 원하는 값으로 바꿀 수 있다.\n",
    "list1.get(0);"
   ]
  },
  {
   "cell_type": "code",
   "execution_count": 15,
   "id": "b51a2b2c",
   "metadata": {
    "vscode": {
     "languageId": "java"
    }
   },
   "outputs": [
    {
     "data": {
      "text/plain": [
       "2"
      ]
     },
     "execution_count": 15,
     "metadata": {},
     "output_type": "execute_result"
    }
   ],
   "source": [
    "list1.remove(0); // 0번째 인덱스에 있는 값을 삭제하고, 뒷값이 앞으로 넘어온다.\n",
    "list1.get(0);"
   ]
  },
  {
   "cell_type": "code",
   "execution_count": 16,
   "id": "998eb40f",
   "metadata": {
    "vscode": {
     "languageId": "java"
    }
   },
   "outputs": [
    {
     "data": {
      "text/plain": [
       "1"
      ]
     },
     "execution_count": 16,
     "metadata": {},
     "output_type": "execute_result"
    }
   ],
   "source": [
    "list1.size() // 배열 사이즈 확인"
   ]
  },
  {
   "cell_type": "code",
   "execution_count": 18,
   "id": "b1a30f17",
   "metadata": {
    "vscode": {
     "languageId": "java"
    }
   },
   "outputs": [
    {
     "name": "stdout",
     "output_type": "stream",
     "text": [
      "2\n",
      "5\n"
     ]
    }
   ],
   "source": [
    "// 2차원 배열\n",
    "Integer data_list[][] = {\n",
    "    {1, 2, 3}, {4, 5, 6}\n",
    "};\n",
    "\n",
    "System.out.println(data_list[0][1]);\n",
    "System.out.println(data_list[1][1]);"
   ]
  },
  {
   "cell_type": "code",
   "execution_count": 21,
   "id": "c334b609",
   "metadata": {
    "vscode": {
     "languageId": "java"
    }
   },
   "outputs": [
    {
     "name": "stdout",
     "output_type": "stream",
     "text": [
      "5\n",
      "12\n"
     ]
    }
   ],
   "source": [
    "// 3차원 배열\n",
    "Integer[][][] data_list = {\n",
    "    {\n",
    "        {1, 2, 3},\n",
    "        {4, 5, 6}\n",
    "    },\n",
    "    {\n",
    "        {7, 8, 9},\n",
    "        {10, 11, 12}\n",
    "    }\n",
    "};\n",
    "\n",
    "System.out.println(data_list[0][1][1]);\n",
    "System.out.println(data_list[1][1][2]);"
   ]
  },
  {
   "cell_type": "code",
   "execution_count": 23,
   "id": "7d2ee11c",
   "metadata": {
    "vscode": {
     "languageId": "java"
    }
   },
   "outputs": [
    {
     "name": "stdout",
     "output_type": "stream",
     "text": [
      "8\n",
      "10\n",
      "2\n"
     ]
    }
   ],
   "source": [
    "// 과제 1. 위 3차원 배열에서 8, 10, 2를 순서대로 출력하라.\n",
    "System.out.println(data_list[1][0][1]);\n",
    "System.out.println(data_list[1][1][0]);\n",
    "System.out.println(data_list[0][0][1]);"
   ]
  },
  {
   "cell_type": "code",
   "execution_count": 24,
   "id": "6b50e73a",
   "metadata": {
    "vscode": {
     "languageId": "java"
    }
   },
   "outputs": [],
   "source": [
    "String dataset[] = {\n",
    "    \"Braund, Mr. Owen Harris\",\n",
    "    \"Cumings, Mrs. John Bradley (Florence Briggs Thayer)\",\n",
    "    \"Heikkinen, Miss. Laina\",\n",
    "    \"Futrelle, Mrs. Jacques Heath (Lily May Peel)\",\n",
    "    \"Allen, Mr. William Henry\",\n",
    "    \"Moran, Mr. James\",\n",
    "    \"McCarthy, Mr. Timothy J\",\n",
    "    \"Palsson, Master. Gosta Leonard\",\n",
    "    \"Johnson, Mrs. Oscar W (Elisabeth Vilhelmina Berg)\",\n",
    "    \"Nasser, Mrs. Nicholas (Adele Achem)\",\n",
    "    \"Sandstrom, Miss. Marguerite Rut\",\n",
    "    \"Bonnell, Miss. Elizabeth\",\n",
    "    \"Saundercock, Mr. William Henry\",\n",
    "    \"Andersson, Mr. Anders Johan\",\n",
    "    \"Vestrom, Miss. Hulda Amanda Adolfina\",\n",
    "    \"Hewlett, Mrs. (Mary D Kingcome) \",\n",
    "    \"Rice, Master. Eugene\",\n",
    "    \"Williams, Mr. Charles Eugene\",\n",
    "    \"Vander Planke, Mrs. Julius (Emelia Maria Vandemoortele)\",\n",
    "    \"Masselmani, Mrs. Fatima\",\n",
    "    \"Fynney, Mr. Joseph J\",\n",
    "    \"Beesley, Mr. Lawrence\",\n",
    "    \"McGowan, Miss. Anna\",\n",
    "    \"Sloper, Mr. William Thompson\",\n",
    "    \"Palsson, Miss. Torborg Danira\",\n",
    "    \"Asplund, Mrs. Carl Oscar (Selma Augusta Emilia Johansson)\",\n",
    "    \"Emir, Mr. Farred Chehab\",\n",
    "    \"Fortune, Mr. Charles Alexander\",\n",
    "    \"Dwyer, Miss. Ellen\",\n",
    "    \"Todoroff, Mr. Lalio\"\n",
    "};"
   ]
  },
  {
   "cell_type": "code",
   "execution_count": 30,
   "id": "d1357c68",
   "metadata": {
    "vscode": {
     "languageId": "java"
    }
   },
   "outputs": [
    {
     "data": {
      "text/plain": [
       "26"
      ]
     },
     "execution_count": 30,
     "metadata": {},
     "output_type": "execute_result"
    }
   ],
   "source": [
    "// 위 배열에서 M가 들어가는 아이템 수를 출력하라.\n",
    "Integer count = 0;\n",
    "for (Integer item = 0; item < dataset.length; item++) {\n",
    "    if (dataset[item].indexOf(\"M\") > 0) {\n",
    "        count++;\n",
    "    }\n",
    "}\n",
    "count;"
   ]
  }
 ],
 "metadata": {
  "kernelspec": {
   "display_name": "Java",
   "language": "java",
   "name": "java"
  },
  "language_info": {
   "codemirror_mode": "java",
   "file_extension": ".jshell",
   "mimetype": "text/x-java-source",
   "name": "Java",
   "pygments_lexer": "java",
   "version": "18.0.2.1+1-1"
  },
  "vscode": {
   "interpreter": {
    "hash": "b252d7cd785b71e172da3ea3f9bb583c7f237978e37e2489541bd05394a3564b"
   }
  }
 },
 "nbformat": 4,
 "nbformat_minor": 5
}
