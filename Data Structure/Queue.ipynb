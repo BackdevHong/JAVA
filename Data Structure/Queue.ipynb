{
 "cells": [
  {
   "cell_type": "markdown",
   "id": "5fd76133",
   "metadata": {},
   "source": [
    "## Queue 클래스 사용해보기\n",
    "아직 배우지 않은 LinkedList 클래스도 사용해야함."
   ]
  },
  {
   "cell_type": "code",
   "execution_count": 6,
   "id": "dc027b95",
   "metadata": {
    "vscode": {
     "languageId": "java"
    }
   },
   "outputs": [],
   "source": [
    "import java.util.LinkedList;\n",
    "import java.util.Queue;\n",
    "\n",
    "Queue<Integer> queue_int = new LinkedList<Integer>();\n",
    "Queue<String> queue_str = new LinkedList<String>();"
   ]
  },
  {
   "cell_type": "code",
   "execution_count": 17,
   "id": "e1e4843c",
   "metadata": {
    "vscode": {
     "languageId": "java"
    }
   },
   "outputs": [
    {
     "data": {
      "text/plain": [
       "true"
      ]
     },
     "execution_count": 17,
     "metadata": {},
     "output_type": "execute_result"
    }
   ],
   "source": [
    "queue_int.add(1);\n",
    "queue_int.offer(2); // 큐에 데이터 추가"
   ]
  },
  {
   "cell_type": "code",
   "execution_count": 18,
   "id": "2e618929",
   "metadata": {
    "vscode": {
     "languageId": "java"
    }
   },
   "outputs": [
    {
     "name": "stdout",
     "output_type": "stream",
     "text": [
      "[1, 2]\n"
     ]
    }
   ],
   "source": [
    "System.out.println(queue_int)"
   ]
  },
  {
   "cell_type": "code",
   "execution_count": 19,
   "id": "d5aae02c",
   "metadata": {
    "vscode": {
     "languageId": "java"
    }
   },
   "outputs": [
    {
     "data": {
      "text/plain": [
       "1"
      ]
     },
     "execution_count": 19,
     "metadata": {},
     "output_type": "execute_result"
    }
   ],
   "source": [
    "queue_int.poll(); // deQueue"
   ]
  },
  {
   "cell_type": "code",
   "execution_count": 20,
   "id": "531ffd45",
   "metadata": {
    "vscode": {
     "languageId": "java"
    }
   },
   "outputs": [
    {
     "data": {
      "text/plain": [
       "[2]"
      ]
     },
     "execution_count": 20,
     "metadata": {},
     "output_type": "execute_result"
    }
   ],
   "source": [
    "queue_int"
   ]
  },
  {
   "cell_type": "code",
   "execution_count": 21,
   "id": "a756b4d0",
   "metadata": {
    "vscode": {
     "languageId": "java"
    }
   },
   "outputs": [
    {
     "data": {
      "text/plain": [
       "2"
      ]
     },
     "execution_count": 21,
     "metadata": {},
     "output_type": "execute_result"
    }
   ],
   "source": [
    "queue_int.remove(); // 위와 마찬가지로 deQueue"
   ]
  },
  {
   "cell_type": "code",
   "execution_count": 22,
   "id": "124b8f99",
   "metadata": {
    "vscode": {
     "languageId": "java"
    }
   },
   "outputs": [
    {
     "data": {
      "text/plain": [
       "[]"
      ]
     },
     "execution_count": 22,
     "metadata": {},
     "output_type": "execute_result"
    }
   ],
   "source": [
    "queue_int"
   ]
  },
  {
   "cell_type": "markdown",
   "id": "2826c6c5",
   "metadata": {},
   "source": [
    "### 큐는 어디에 쓰일까?\n",
    "- 멀티 태스킹을 위한 프로세스 스케쥴링 방식을 구현하기 위하여"
   ]
  },
  {
   "cell_type": "markdown",
   "id": "0ee8518f",
   "metadata": {},
   "source": [
    "## 프로그래밍 연습"
   ]
  },
  {
   "cell_type": "markdown",
   "id": "054cc488",
   "metadata": {},
   "source": [
    "- 자바 ArrayList 클래스를 활용해서 큐를 다루는 enqueue, dequeue 기능 구현해보기\n",
    "- dequeue 기능 호출시, 큐에 데이터가 없을 경우, null을 리턴하도록 함.\n",
    "- 다양한 데이터 타입을 다룰 수 있도록 자바 제네릭 타입 문법을 활용해보기"
   ]
  },
  {
   "cell_type": "code",
   "execution_count": 27,
   "id": "2011c292",
   "metadata": {
    "vscode": {
     "languageId": "java"
    }
   },
   "outputs": [],
   "source": [
    "// 우선 내가 짠 코드이다.\n",
    "import java.util.ArrayList;\n",
    "\n",
    "class MyQueue<T> {\n",
    "    private ArrayList<T> queue = new ArrayList<>();\n",
    "\n",
    "    public void enQueue(T data) {\n",
    "        queue.add(data);\n",
    "    }\n",
    "\n",
    "    public T deQueue() {\n",
    "        if (!queue.isEmpty()) {\n",
    "            T temp = queue.get(0);\n",
    "            queue.remove(0);\n",
    "            System.out.println(temp);\n",
    "            return temp;\n",
    "        } else {\n",
    "            return null;\n",
    "        }\n",
    "    }\n",
    "\n",
    "    @Override\n",
    "    public String toString() {\n",
    "        return queue.toString();\n",
    "    }\n",
    "}\n",
    "public class QueueTest {\n",
    "    public static void main(String[] args) {\n",
    "        MyQueue<Integer> myQueue = new MyQueue<Integer>();\n",
    "        myQueue.enQueue(10);\n",
    "        myQueue.enQueue(20);\n",
    "        myQueue.enQueue(30);\n",
    "        System.out.println(myQueue);\n",
    "        myQueue.deQueue();\n",
    "        myQueue.deQueue();\n",
    "        System.out.println(myQueue);\n",
    "        myQueue.deQueue();\n",
    "        System.out.println(myQueue);\n",
    "    }\n",
    "}"
   ]
  },
  {
   "cell_type": "code",
   "execution_count": 30,
   "id": "5321d7a8",
   "metadata": {
    "vscode": {
     "languageId": "java"
    }
   },
   "outputs": [],
   "source": [
    "// 강의에서 본 코드이다.\n",
    "import java.util.ArrayList;\n",
    "\n",
    "class MyQueue<T> {\n",
    "    private ArrayList<T> queue = new ArrayList<>();\n",
    "\n",
    "    public void enQueue(T data) {\n",
    "        queue.add(data);\n",
    "    }\n",
    "\n",
    "    public T deQueue() {\n",
    "        if (queue.isEmpty()) {\n",
    "            return null;\n",
    "        } else {\n",
    "            return queue.remove(0);\n",
    "        }\n",
    "    }\n",
    "\n",
    "    public boolean isEmpty() {\n",
    "        return queue.isEmpty();\n",
    "    }\n",
    "    \n",
    "    public static void main(String[] args) {\n",
    "        MyQueue<Integer> myQueue = new MyQueue<Integer>();\n",
    "        myQueue.enQueue(10);\n",
    "        myQueue.enQueue(20);\n",
    "        myQueue.enQueue(30);\n",
    "        System.out.println(myQueue.deQueue());\n",
    "        System.out.println(myQueue.deQueue());\n",
    "        System.out.println(myQueue.deQueue());\n",
    "    }\n",
    "}"
   ]
  },
  {
   "cell_type": "code",
   "execution_count": 32,
   "id": "3aa5d52c",
   "metadata": {
    "vscode": {
     "languageId": "java"
    }
   },
   "outputs": [
    {
     "name": "stdout",
     "output_type": "stream",
     "text": [
      "10\n",
      "20\n",
      "30\n"
     ]
    }
   ],
   "source": [
    "MyQueue.main(new String[0]);"
   ]
  }
 ],
 "metadata": {
  "kernelspec": {
   "display_name": "Java",
   "language": "java",
   "name": "java"
  },
  "language_info": {
   "codemirror_mode": "java",
   "file_extension": ".jshell",
   "mimetype": "text/x-java-source",
   "name": "Java",
   "pygments_lexer": "java",
   "version": "18.0.2.1+1-1"
  }
 },
 "nbformat": 4,
 "nbformat_minor": 5
}
