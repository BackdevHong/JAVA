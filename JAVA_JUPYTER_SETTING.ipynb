{
 "cells": [
  {
   "cell_type": "code",
   "execution_count": 3,
   "id": "99fdbb5d",
   "metadata": {
    "scrolled": true
   },
   "outputs": [
    {
     "name": "stdout",
     "output_type": "stream",
     "text": [
      "Installed java kernel into \"G:\\anaconda\\share\\jupyter\\kernels\\java\"\n"
     ]
    },
    {
     "name": "stderr",
     "output_type": "stream",
     "text": [
      "G:\\github\\Java-Algorithm\\install.py:164: DeprecationWarning: replace is ignored. Installing a kernelspec always replaces an existing installation\n",
      "  install_dest = KernelSpecManager().install_kernel_spec(\n"
     ]
    }
   ],
   "source": [
    "!python install.py --sys-prefix"
   ]
  },
  {
   "cell_type": "markdown",
   "id": "feda93ba",
   "metadata": {},
   "source": [
    "## 설정 완료\n",
    "이제 주피터에서 사용할 수 있음."
   ]
  }
 ],
 "metadata": {
  "kernelspec": {
   "display_name": "Python 3 (ipykernel)",
   "language": "python",
   "name": "python3"
  },
  "language_info": {
   "codemirror_mode": {
    "name": "ipython",
    "version": 3
   },
   "file_extension": ".py",
   "mimetype": "text/x-python",
   "name": "python",
   "nbconvert_exporter": "python",
   "pygments_lexer": "ipython3",
   "version": "3.9.13"
  }
 },
 "nbformat": 4,
 "nbformat_minor": 5
}
