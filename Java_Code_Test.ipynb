{
 "cells": [
  {
   "cell_type": "markdown",
   "id": "94042f3f",
   "metadata": {},
   "source": [
    "## 자바 코드 테스트\n",
    "Test 클래스를 생성하고, 사용해 보겠습니다."
   ]
  },
  {
   "cell_type": "code",
   "execution_count": 2,
   "id": "081f3692",
   "metadata": {},
   "outputs": [],
   "source": [
    "class Test{\n",
    "    public static void main(String[] args) {\n",
    "        System.out.println(\"Hello World\");\n",
    "    }\n",
    "    \n",
    "    int printMessage() {\n",
    "        return 1 + 1;\n",
    "    }\n",
    "}"
   ]
  },
  {
   "cell_type": "code",
   "execution_count": 3,
   "id": "e2127e59",
   "metadata": {},
   "outputs": [],
   "source": [
    "Test test = new Test();"
   ]
  },
  {
   "cell_type": "code",
   "execution_count": 5,
   "id": "42bcb0ef",
   "metadata": {},
   "outputs": [
    {
     "data": {
      "text/plain": [
       "2"
      ]
     },
     "execution_count": 5,
     "metadata": {},
     "output_type": "execute_result"
    }
   ],
   "source": [
    "test.printMessage();"
   ]
  },
  {
   "cell_type": "code",
   "execution_count": null,
   "id": "0da44167",
   "metadata": {},
   "outputs": [],
   "source": []
  }
 ],
 "metadata": {
  "kernelspec": {
   "display_name": "Java",
   "language": "java",
   "name": "java"
  },
  "language_info": {
   "codemirror_mode": "java",
   "file_extension": ".jshell",
   "mimetype": "text/x-java-source",
   "name": "Java",
   "pygments_lexer": "java",
   "version": "18.0.2.1+1-1"
  }
 },
 "nbformat": 4,
 "nbformat_minor": 5
}
